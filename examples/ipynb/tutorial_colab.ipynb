{
  "cells": [
    {
      "cell_type": "markdown",
      "id": "140eee25",
      "metadata": {
        "id": "140eee25"
      },
      "source": [
        "The 'tutorial' example, see:\n",
        "\n",
        "https://magmasource.caltech.edu/forum/index.php?board=12.0\n",
        "\n",
        "https://magmasource.caltech.edu/forum/index.php/board=31.0\n",
        "\n",
        "Converted to ipynb using https://jupytext.readthedocs.io/en/latest/install.html"
      ]
    },
    {
      "cell_type": "code",
      "execution_count": null,
      "id": "bb938fd2",
      "metadata": {
        "id": "bb938fd2"
      },
      "outputs": [],
      "source": [
        "%%capture\n",
        "!apt-get update\n",
        "!apt-get install gsl-bin"
      ]
    },
    {
      "cell_type": "code",
      "execution_count": null,
      "id": "0b1b6f18",
      "metadata": {
        "id": "0b1b6f18"
      },
      "outputs": [],
      "source": [
        "%%capture\n",
        "!pip3 install tinynumpy"
      ]
    },
    {
      "cell_type": "code",
      "execution_count": null,
      "id": "380ec8e0",
      "metadata": {
        "id": "380ec8e0"
      },
      "outputs": [],
      "source": [
        "import os\n",
        "data_directory = \"/content/MY_DATA/\"\n",
        "\n",
        "# Create the directory if it doesn't exist\n",
        "if not os.path.exists(data_directory):\n",
        "    os.makedirs(data_directory)\n",
        "\n",
        "# Change the current working directory\n",
        "os.chdir(data_directory)"
      ]
    },
    {
      "cell_type": "code",
      "execution_count": null,
      "id": "lWDNIR21aN50",
      "metadata": {
        "colab": {
          "base_uri": "https://localhost:8080/",
          "height": 179
        },
        "id": "lWDNIR21aN50",
        "outputId": "5182aa8d-6c04-4a16-aa16-bcf6fb177c30"
      },
      "outputs": [],
      "source": [
        "# Need to upload: libalphamelts.so, meltsdynamic.py, meltsengine.py, meltsstatus.py\n",
        "\n",
        "from google.colab import files\n",
        "# Upload the files\n",
        "uploaded_files = files.upload()"
      ]
    },
    {
      "cell_type": "code",
      "execution_count": null,
      "id": "DT8BtDi0qrqX",
      "metadata": {
        "colab": {
          "base_uri": "https://localhost:8080/"
        },
        "id": "DT8BtDi0qrqX",
        "outputId": "b86c8629-2a16-447e-d94a-9777ffedcb3e"
      },
      "outputs": [],
      "source": [
        "# Check that they uploaded correctly\n",
        "!ls"
      ]
    },
    {
      "cell_type": "code",
      "execution_count": null,
      "id": "3f2d4093",
      "metadata": {
        "colab": {
          "base_uri": "https://localhost:8080/"
        },
        "id": "3f2d4093",
        "outputId": "9f2c8dc3-a15d-48e0-9d01-1b540a6f8554"
      },
      "outputs": [],
      "source": [
        "# Can use to connect an interactive console to notebook\n",
        "%connect_info"
      ]
    },
    {
      "cell_type": "code",
      "execution_count": null,
      "id": "abc1b890",
      "metadata": {
        "id": "abc1b890"
      },
      "outputs": [],
      "source": [
        "from meltsdynamic import MELTSdynamic"
      ]
    },
    {
      "cell_type": "code",
      "execution_count": null,
      "id": "f44d2ff5",
      "metadata": {
        "id": "f44d2ff5"
      },
      "outputs": [],
      "source": [
        "try:\n",
        "    import numpy as np\n",
        "    import pandas as pd\n",
        "except:\n",
        "    from tinynumpy import tinynumpy as tnp\n",
        "    np = None\n",
        "    pd = None"
      ]
    },
    {
      "cell_type": "code",
      "execution_count": null,
      "id": "2de4304f",
      "metadata": {
        "id": "2de4304f"
      },
      "outputs": [],
      "source": [
        "try:\n",
        "    import matplotlib.pyplot as plt\n",
        "    %matplotlib inline\n",
        "except:\n",
        "    plt = None"
      ]
    },
    {
      "cell_type": "code",
      "execution_count": null,
      "id": "df03d1a4",
      "metadata": {
        "colab": {
          "base_uri": "https://localhost:8080/"
        },
        "id": "df03d1a4",
        "outputId": "600b0f80-21af-42da-a499-8cd6c68d9eda"
      },
      "outputs": [],
      "source": [
        "liquidus = MELTSdynamic(1)"
      ]
    },
    {
      "cell_type": "code",
      "execution_count": null,
      "id": "2a0de2d7",
      "metadata": {
        "id": "2a0de2d7"
      },
      "outputs": [],
      "source": [
        "pressure = 500.0\n",
        "temperature = 1200.0"
      ]
    },
    {
      "cell_type": "code",
      "execution_count": null,
      "id": "a4fe0a79",
      "metadata": {
        "id": "a4fe0a79"
      },
      "outputs": [],
      "source": [
        "bulk = [48.68, 1.01, 17.64, 0.89, 0.03, 7.59, 0.0, 9.10, 0.0, 0.0, 12.45, 2.65, 0.03, 0.08, 0.2, 0.0, 0.0, 0.0, 0.0]"
      ]
    },
    {
      "cell_type": "code",
      "execution_count": null,
      "id": "1a684c03",
      "metadata": {
        "id": "1a684c03"
      },
      "outputs": [],
      "source": [
        "liquidus.engine.setBulkComposition(bulk)\n",
        "liquidus.engine.pressure = pressure"
      ]
    },
    {
      "cell_type": "code",
      "execution_count": null,
      "id": "5dd8cbda",
      "metadata": {
        "id": "5dd8cbda"
      },
      "outputs": [],
      "source": [
        "# Note that as of Nov 18th, 2020 temperature is in Celcius\n",
        "liquidus.engine.temperature = temperature"
      ]
    },
    {
      "cell_type": "code",
      "execution_count": null,
      "id": "128c9e4a",
      "metadata": {
        "id": "128c9e4a"
      },
      "outputs": [],
      "source": [
        "%%capture output --no-stdout --no-display\n",
        "# This should capture all output but a little was going to stdout, which was a bug that has since been fixed\n",
        "liquidus.engine.findLiquidus()\n",
        "temperature = liquidus.engine.temperature"
      ]
    },
    {
      "cell_type": "code",
      "execution_count": null,
      "id": "7f0ba138",
      "metadata": {
        "colab": {
          "base_uri": "https://localhost:8080/"
        },
        "id": "7f0ba138",
        "outputId": "bc6d1bd2-6fc8-4ff5-aad9-63b35188cacc"
      },
      "outputs": [],
      "source": [
        "print(f'temperature = {temperature:.2f}')"
      ]
    },
    {
      "cell_type": "code",
      "execution_count": null,
      "id": "6dd325eb",
      "metadata": {
        "colab": {
          "base_uri": "https://localhost:8080/"
        },
        "id": "6dd325eb",
        "outputId": "42c4d2c3-2534-435f-cd25-ab262bff75a6"
      },
      "outputs": [],
      "source": [
        "liquidusPhase = liquidus.engine.solidNames\n",
        "print(liquidusPhase)"
      ]
    },
    {
      "cell_type": "code",
      "execution_count": null,
      "id": "25df60bb",
      "metadata": {
        "colab": {
          "base_uri": "https://localhost:8080/"
        },
        "id": "25df60bb",
        "outputId": "7d5b586a-8d63-47be-d507-b152e4b7b115"
      },
      "outputs": [],
      "source": [
        "# Note that as of July 4th, 2022 .calcSaturationState() outputs wt% oxides\n",
        "liquidus.engine.calcEndMemberProperties(liquidusPhase, liquidus.engine.dispComposition[liquidusPhase[0]])\n",
        "Xan = liquidus.engine.getProperty('X', liquidusPhase, \"CaAl2Si2O8\")\n",
        "print(Xan)"
      ]
    },
    {
      "cell_type": "code",
      "execution_count": null,
      "id": "524a4883",
      "metadata": {
        "id": "524a4883"
      },
      "outputs": [],
      "source": [
        "liquidus.engine.setSystemProperties(\"Mode\", \"Fractionate Solids\")"
      ]
    },
    {
      "cell_type": "code",
      "execution_count": null,
      "id": "665eb925",
      "metadata": {
        "colab": {
          "base_uri": "https://localhost:8080/"
        },
        "id": "665eb925",
        "outputId": "0f4ee454-0c2b-4e8a-937f-233418c58d10"
      },
      "outputs": [],
      "source": [
        "# .addNodeAfter() uses .copy(), which only copies \"INPUT\" or \"INPUT AND OUTPUT\"\n",
        "# .copyAndKeepOutput() copies \"OUTPUT\" also. We can verify that \"OUTPUT\" is reset\n",
        "# in ptpath when .calcEquilibriumState() (or .findLiquidus()) is called.\n",
        "ptpath = liquidus.copyAndKeepOutput()"
      ]
    },
    {
      "cell_type": "code",
      "execution_count": null,
      "id": "f7244c6d",
      "metadata": {
        "colab": {
          "base_uri": "https://localhost:8080/"
        },
        "id": "f7244c6d",
        "outputId": "4455cbc1-94b6-4b40-f8cf-504f1f1b01bc"
      },
      "outputs": [],
      "source": [
        "%%capture output --no-stdout --no-display\n",
        "# Run mode is 1 (isobaric, isothermal) if not defined\n",
        "# Select output mode 0, to equilibrate but not do any fractionations\n",
        "ptpath.engine.calcEquilibriumState(1, 0)\n",
        "print(ptpath.engine.status.message)\n",
        "print(ptpath.engine.solidNames)"
      ]
    },
    {
      "cell_type": "code",
      "execution_count": null,
      "id": "924366f1",
      "metadata": {
        "id": "924366f1"
      },
      "outputs": [],
      "source": [
        "%%capture output --no-display\n",
        "while ptpath.engine.temperature >= 1000:\n",
        "    ptpath = ptpath.addNodeAfter()\n",
        "    ptpath.engine.temperature = ptpath.engine.temperature - 3\n",
        "\n",
        "    # Run mode is saved from previous run\n",
        "    # Select 1 to get output after equilibration and before fractionation\n",
        "    ptpath.engine.calcEquilibriumState(1, 1)\n",
        "    print(ptpath.engine.status.message)\n",
        "\n",
        "    # Can populate X, mu0 ,mu as go along (should test that the phase exists)\n",
        "    # This is a Supplemental Calculator-type method so \"OUTPUT\" is not reset\n",
        "    if \"plagioclase1\" in ptpath.engine.solidNames:\n",
        "        ptpath.engine.calcEndMemberProperties(\"plagioclase1\", ptpath.engine.dispComposition[\"plagioclase1\"])"
      ]
    },
    {
      "cell_type": "code",
      "execution_count": null,
      "id": "4RMqHSmyw08_",
      "metadata": {
        "colab": {
          "base_uri": "https://localhost:8080/",
          "height": 109
        },
        "id": "4RMqHSmyw08_",
        "outputId": "bedd8244-c0c7-42ea-e498-87ebdb658e9c"
      },
      "outputs": [],
      "source": [
        "# Need to upload: run-alphamelts.command, column-pick.command\n",
        "\n",
        "from google.colab import files\n",
        "# Upload the files\n",
        "uploaded_files = files.upload()"
      ]
    },
    {
      "cell_type": "code",
      "execution_count": null,
      "id": "1FOsuxVwyA5N",
      "metadata": {
        "colab": {
          "base_uri": "https://localhost:8080/"
        },
        "id": "1FOsuxVwyA5N",
        "outputId": "87765769-1baa-4b08-9d98-aca25cdfba50"
      },
      "outputs": [],
      "source": [
        "!chmod +x *.command\n",
        "!ls -l *.command"
      ]
    },
    {
      "cell_type": "code",
      "execution_count": null,
      "id": "327f3031",
      "metadata": {
        "colab": {
          "base_uri": "https://localhost:8080/"
        },
        "id": "327f3031",
        "outputId": "c035f953-ccd9-445c-9c0a-cb13cab5d9e0"
      },
      "outputs": [],
      "source": [
        "# Get the Phase_mass_tbl.txt and Phase_vol_tbl.txt files if standalone alphaMELTS 2 is installed\n",
        "# On CoLab we don't do a full install - just upload the two scripts that manipulate output\n",
        "!./run-alphamelts.command -x"
      ]
    },
    {
      "cell_type": "code",
      "execution_count": null,
      "id": "416d99d1",
      "metadata": {
        "id": "416d99d1"
      },
      "outputs": [],
      "source": [
        "temp = ptpath.getListProperty('temperature')\n",
        "mgo = ptpath.getListProperty('dispComposition', 'liquid1', 'MgO')\n",
        "mass = ptpath.getListProperty('mass', 'bulk')"
      ]
    },
    {
      "cell_type": "code",
      "execution_count": null,
      "id": "bebc7c8b",
      "metadata": {
        "id": "bebc7c8b"
      },
      "outputs": [],
      "source": [
        "# A silly example to illustrate sorting the list (in this case by temperature ascending)\n",
        "# There are multiple ways to do this.\n",
        "if np is not None:\n",
        "    indices = np.arange(ptpath.Last.nodeIndex+1)\n",
        "else:\n",
        "    indices = list(range(ptpath.Last.nodeIndex+1))"
      ]
    },
    {
      "cell_type": "code",
      "execution_count": null,
      "id": "4d7e3d73",
      "metadata": {
        "colab": {
          "base_uri": "https://localhost:8080/",
          "height": 430
        },
        "id": "4d7e3d73",
        "outputId": "956e5cca-c097-4acc-f23a-0e7f298b3b6b"
      },
      "outputs": [],
      "source": [
        "if plt is not None:\n",
        "\n",
        "    plt.scatter(indices, mgo, marker='*', color='black')"
      ]
    },
    {
      "cell_type": "code",
      "execution_count": null,
      "id": "ed696096",
      "metadata": {
        "id": "ed696096"
      },
      "outputs": [],
      "source": [
        "if np is not None:\n",
        "    temp = np.array(temp)\n",
        "    order = indices[temp.argsort()]\n",
        "else:\n",
        "    order = [x for _, x in sorted(zip(temp, indices), key=lambda pair: pair[0])]"
      ]
    },
    {
      "cell_type": "code",
      "execution_count": null,
      "id": "80ce0d5f",
      "metadata": {
        "id": "80ce0d5f"
      },
      "outputs": [],
      "source": [
        "ptpath.sortListBy(order)\n",
        "mgo = ptpath.getListProperty('dispComposition', 'liquid1', 'MgO')"
      ]
    },
    {
      "cell_type": "code",
      "execution_count": null,
      "id": "b11e9a3a",
      "metadata": {
        "colab": {
          "base_uri": "https://localhost:8080/",
          "height": 430
        },
        "id": "b11e9a3a",
        "outputId": "7eb7ceb8-bc23-423b-ed65-feb42a7c7b3d"
      },
      "outputs": [],
      "source": [
        "if plt is not None:\n",
        "    plt.scatter(indices, mgo, marker='*', color='blue')\n",
        "    plt.show()"
      ]
    },
    {
      "cell_type": "code",
      "execution_count": null,
      "id": "d6ec58e1",
      "metadata": {
        "id": "d6ec58e1"
      },
      "outputs": [],
      "source": [
        "# flip it back again\n",
        "ptpath.sortListBy(order)\n",
        "mgo = ptpath.getListProperty('dispComposition', 'liquid1', 'MgO')"
      ]
    },
    {
      "cell_type": "code",
      "execution_count": null,
      "id": "7c308ecd",
      "metadata": {
        "id": "7c308ecd"
      },
      "outputs": [],
      "source": [
        "Xan = ptpath.getListProperty('X', \"plagioclase1\", \"CaAl2Si2O8\")"
      ]
    },
    {
      "cell_type": "code",
      "execution_count": null,
      "id": "6800987f",
      "metadata": {
        "id": "6800987f"
      },
      "outputs": [],
      "source": [
        "# If we didn't calculate Xan as we went along and wanted to avoid repeating the equilibration loop.\n",
        "plag = ptpath.getListProperty('dispComposition', 'plagioclase1')"
      ]
    },
    {
      "cell_type": "code",
      "execution_count": null,
      "id": "7c596859",
      "metadata": {
        "id": "7c596859"
      },
      "outputs": [],
      "source": [
        "# Need to give the feldspars from different runs different names that start with feldspar\n",
        "phaseList = ['plagioclase_'] * (ptpath.Last.nodeIndex+1)\n",
        "for i in range(ptpath.Last.nodeIndex+1):\n",
        "    phaseList[i] += str(i+1)"
      ]
    },
    {
      "cell_type": "code",
      "execution_count": null,
      "id": "ab5b6e33",
      "metadata": {
        "colab": {
          "base_uri": "https://localhost:8080/"
        },
        "id": "ab5b6e33",
        "outputId": "726570ea-9b67-4176-83cc-bcaa495fd9fa"
      },
      "outputs": [],
      "source": [
        "# A pandas example\n",
        "if pd is not None:\n",
        "    table = pd.DataFrame(data=np.asarray(plag), index=ptpath.endMemberFormulas[\"bulk\"], columns=phaseList)\n",
        "    print(table)"
      ]
    },
    {
      "cell_type": "code",
      "execution_count": null,
      "id": "6009f963",
      "metadata": {
        "colab": {
          "base_uri": "https://localhost:8080/"
        },
        "id": "6009f963",
        "outputId": "564fcf52-9a74-4180-e293-55a8d82b9bfd"
      },
      "outputs": [],
      "source": [
        "# This works because Xan is independent of pressure and temperature but we need to specify them\n",
        "# start a new list (as ptpath already has a value for Xan)\n",
        "melts = MELTSdynamic(1)\n",
        "melts.engine.temperature = ptpath.engine.temperature\n",
        "melts.engine.pressure = ptpath.engine.pressure"
      ]
    },
    {
      "cell_type": "markdown",
      "id": "b244f857",
      "metadata": {
        "id": "b244f857"
      },
      "source": [
        "There is no feldspar in the first ptpath phase assemblage (composition will be all zeroes; check SiO2)\n",
        "there are other ways to do this (see meltsplotter.py); .tolist() on phaseList is optional.\n",
        "indices = np.isfinite(plag[0, :].astype(np.double))\n",
        "phaseList = (np.array(phaseList)[indices])\n",
        "melts.engine.calcEndMemberProperties(phaseList, plag[:, indices])"
      ]
    },
    {
      "cell_type": "code",
      "execution_count": null,
      "id": "91d3f7ea",
      "metadata": {
        "id": "91d3f7ea"
      },
      "outputs": [],
      "source": [
        "# There is feldspar in the first ptpath now, as alphaMELTS for Python always uses findWetLiquidus\n",
        "melts.engine.calcEndMemberProperties(phaseList, plag)"
      ]
    },
    {
      "cell_type": "code",
      "execution_count": null,
      "id": "8c06e8d4",
      "metadata": {
        "id": "8c06e8d4"
      },
      "outputs": [],
      "source": [
        "#To get properties from a single node, use getNodeProperty with None for the index.\n",
        "#Or equivalently use the engine's getProperty method instead i.e:\n",
        "#Xan = melts.engine.getProperty('X', phaseList[indices], \"CaAl2Si2O8\")"
      ]
    },
    {
      "cell_type": "code",
      "execution_count": null,
      "id": "2cc8b5ec",
      "metadata": {
        "id": "2cc8b5ec"
      },
      "outputs": [],
      "source": [
        "Xan = melts.getNodeProperty(None, 'X', phaseList, \"CaAl2Si2O8\")"
      ]
    },
    {
      "cell_type": "code",
      "execution_count": null,
      "id": "OJQezHDhbC4P",
      "metadata": {
        "colab": {
          "base_uri": "https://localhost:8080/",
          "height": 109
        },
        "id": "OJQezHDhbC4P",
        "outputId": "1548f033-b9b1-45f5-b54d-21c0605a1e07"
      },
      "outputs": [],
      "source": [
        "# Need to upload: meltsplotter.py, tasplot.py\n",
        "\n",
        "from google.colab import files\n",
        "# Upload the files\n",
        "uploaded_files = files.upload()"
      ]
    },
    {
      "cell_type": "code",
      "execution_count": null,
      "id": "b09ea787",
      "metadata": {
        "colab": {
          "base_uri": "https://localhost:8080/",
          "height": 1000
        },
        "id": "b09ea787",
        "outputId": "47375672-9c19-4f68-f542-356747e0a8a2"
      },
      "outputs": [],
      "source": [
        "# Ryan Clark's MELTSplotter, using matplotlib\n",
        "if plt is not None:\n",
        "    try:\n",
        "        from meltsplotter import MELTSplotter\n",
        "        mplot1 = MELTSplotter()\n",
        "        mplot1 = mplot1.plotTAS(ptpath)\n",
        "        mplot2 = MELTSplotter()\n",
        "        mplot2 = mplot2.harkerPlot(ptpath, 'SiO2', ['CaO', 'MgO', 'K2O', 'TiO2', 'Na2O', 'FeO', 'MnO', 'Al2O3'], False)\n",
        "        mplot3 = MELTSplotter()\n",
        "        mplot3 = mplot3.harkerPlot(ptpath, 'MgO', ['SiO2', 'CaO', 'K2O', 'TiO2', 'Na2O', 'FeO', 'MnO', 'Al2O3'], False)\n",
        "    except:\n",
        "        print(\"Could not find MELTSplotter!\")"
      ]
    },
    {
      "cell_type": "code",
      "execution_count": null,
      "id": "d4d06de5",
      "metadata": {
        "id": "d4d06de5"
      },
      "outputs": [],
      "source": [
        "temp = ptpath.getListProperty('temperature')\n",
        "sio2 = ptpath.getListProperty('dispComposition', 'liquid1', 'SiO2')\n",
        "feo = ptpath.getListProperty('dispComposition', 'liquid1', 'FeO')\n",
        "#mgo = ptpath.getListProperty('dispComposition', 'liquid1', 'MgO')\n",
        "cao = ptpath.getListProperty('dispComposition', 'liquid1', 'CaO')\n",
        "na2o = ptpath.getListProperty('dispComposition', 'liquid1', 'Na2O')"
      ]
    },
    {
      "cell_type": "code",
      "execution_count": null,
      "id": "jTK_3Dg0uAVR",
      "metadata": {
        "id": "jTK_3Dg0uAVR"
      },
      "outputs": [],
      "source": [
        "%%capture\n",
        "!apt-get install gmt\n",
        "!apt-get install -y ghostscript"
      ]
    },
    {
      "cell_type": "code",
      "execution_count": null,
      "id": "taTBTCR2bUkl",
      "metadata": {
        "id": "taTBTCR2bUkl"
      },
      "outputs": [],
      "source": [
        "%%capture\n",
        "!pip3 install pygmt\n",
        "!ln -s /lib/x86_64-linux-gnu/libgmt.so.6 /lib/x86_64-linux-gnu/libgmt.so"
      ]
    },
    {
      "cell_type": "code",
      "execution_count": null,
      "id": "S-BFObG2dPvu",
      "metadata": {
        "colab": {
          "base_uri": "https://localhost:8080/",
          "height": 74
        },
        "id": "S-BFObG2dPvu",
        "outputId": "2fd279b7-3d6e-4a44-b7b7-a1f5a51e3c32"
      },
      "outputs": [],
      "source": [
        "# Need to upload: legend.txt\n",
        "\n",
        "from google.colab import files\n",
        "# Upload the files\n",
        "uploaded_files = files.upload()"
      ]
    },
    {
      "cell_type": "code",
      "execution_count": null,
      "id": "7bb4a2fb",
      "metadata": {
        "colab": {
          "base_uri": "https://localhost:8080/",
          "height": 412
        },
        "id": "7bb4a2fb",
        "outputId": "99f4dbcc-eaff-4e39-9344-abc649ac910e"
      },
      "outputs": [],
      "source": [
        "try:\n",
        "    import pygmt\n",
        "    #pygmt.show_versions()\n",
        "    fig = pygmt.Figure()\n",
        "    fig.basemap(region=[1000, 1220, 0, 100], projection=\"X-4i/3i\", frame=['WeSn+tMelt composition', 'x+lT @.C system', 'y+Lwt%'])\n",
        "    fig.plot(x=temp, y=sio2, pen=\"thin,lightblue\", style=\"c0.1\")\n",
        "    fig.plot(x=temp, y=feo, pen=\"thin,orange\", style=\"c0.1\")\n",
        "    fig.plot(x=temp, y=mgo, pen=\"thin,magenta\", style=\"c0.1\")\n",
        "    fig.plot(x=temp, y=cao, pen=\"thin,gray\", style=\"c0.1\")\n",
        "    fig.plot(x=temp, y=na2o, pen=\"thin,pink\", style=\"c0.1\")\n",
        "    try:\n",
        "        fig.legend(position='jTL', box=True, spec='legend.txt')\n",
        "    except:\n",
        "        print(\"Could not find legend.txt\")\n",
        "    fig.show()\n",
        "except:\n",
        "    print(\"Could not find pygmt\")"
      ]
    },
    {
      "cell_type": "code",
      "execution_count": null,
      "id": "8109a044",
      "metadata": {
        "id": "8109a044"
      },
      "outputs": [],
      "source": []
    }
  ],
  "metadata": {
    "colab": {
      "provenance": []
    },
    "jupytext": {
      "cell_metadata_filter": "-all",
      "formats": "ipynb,auto:percent",
      "main_language": "python",
      "notebook_metadata_filter": "-all"
    },
    "kernelspec": {
      "display_name": "Python 3 (ipykernel)",
      "language": "python",
      "name": "python3"
    },
    "language_info": {
      "codemirror_mode": {
        "name": "ipython",
        "version": 3
      },
      "file_extension": ".py",
      "mimetype": "text/x-python",
      "name": "python",
      "nbconvert_exporter": "python",
      "pygments_lexer": "ipython3",
      "version": "3.10.14"
    }
  },
  "nbformat": 4,
  "nbformat_minor": 5
}

{
 "cells": [
  {
   "cell_type": "markdown",
   "id": "140eee25",
   "metadata": {},
   "source": [
    "The 'tutorial' example, see:\n",
    "\n",
    "https://magmasource.caltech.edu/forum/index.php?board=12.0\n",
    "\n",
    "https://magmasource.caltech.edu/forum/index.php/board=31.0\n",
    "\n",
    "Converted to ipynb using https://jupytext.readthedocs.io/en/latest/install.html"
   ]
  },
  {
   "cell_type": "code",
   "execution_count": null,
   "id": "3f2d4093",
   "metadata": {},
   "outputs": [],
   "source": [
    "# Can use to connect an interactive console to notebook\n",
    "%connect_info"
   ]
  },
  {
   "cell_type": "code",
   "execution_count": null,
   "id": "abc1b890",
   "metadata": {},
   "outputs": [],
   "source": [
    "from meltsdynamic import MELTSdynamic"
   ]
  },
  {
   "cell_type": "code",
   "execution_count": null,
   "id": "f44d2ff5",
   "metadata": {},
   "outputs": [],
   "source": [
    "try:\n",
    "    import numpy as np\n",
    "    import pandas as pd\n",
    "except:\n",
    "    from tinynumpy import tinynumpy as tnp\n",
    "    np = None\n",
    "    pd = None"
   ]
  },
  {
   "cell_type": "code",
   "execution_count": null,
   "id": "2de4304f",
   "metadata": {},
   "outputs": [],
   "source": [
    "try:\n",
    "    import matplotlib.pyplot as plt\n",
    "    %matplotlib inline\n",
    "except:\n",
    "    plt = None"
   ]
  },
  {
   "cell_type": "code",
   "execution_count": null,
   "id": "df03d1a4",
   "metadata": {},
   "outputs": [],
   "source": [
    "liquidus = MELTSdynamic(1)"
   ]
  },
  {
   "cell_type": "code",
   "execution_count": null,
   "id": "2a0de2d7",
   "metadata": {},
   "outputs": [],
   "source": [
    "pressure = 500.0\n",
    "temperature = 1200.0"
   ]
  },
  {
   "cell_type": "code",
   "execution_count": null,
   "id": "a4fe0a79",
   "metadata": {},
   "outputs": [],
   "source": [
    "bulk = [48.68, 1.01, 17.64, 0.89, 0.03, 7.59, 0.0, 9.10, 0.0, 0.0, 12.45, 2.65, 0.03, 0.08, 0.2, 0.0, 0.0, 0.0, 0.0]"
   ]
  },
  {
   "cell_type": "code",
   "execution_count": null,
   "id": "1a684c03",
   "metadata": {},
   "outputs": [],
   "source": [
    "liquidus.engine.setBulkComposition(bulk)\n",
    "liquidus.engine.pressure = pressure"
   ]
  },
  {
   "cell_type": "code",
   "execution_count": null,
   "id": "5dd8cbda",
   "metadata": {},
   "outputs": [],
   "source": [
    "# Note that as of Nov 18th, 2020 temperature is in Celcius\n",
    "liquidus.engine.temperature = temperature"
   ]
  },
  {
   "cell_type": "code",
   "execution_count": null,
   "id": "128c9e4a",
   "metadata": {},
   "outputs": [],
   "source": [
    "%%capture output --no-stdout --no-display\n",
    "# This should capture all output but a little goes to stdout, which is a bug that will be fixed soon\n",
    "liquidus.engine.findLiquidus()\n",
    "temperature = liquidus.engine.temperature"
   ]
  },
  {
   "cell_type": "code",
   "execution_count": null,
   "id": "7f0ba138",
   "metadata": {},
   "outputs": [],
   "source": [
    "print(f'temperature = {temperature:.2f}')"
   ]
  },
  {
   "cell_type": "code",
   "execution_count": null,
   "id": "6dd325eb",
   "metadata": {},
   "outputs": [],
   "source": [
    "liquidusPhase = liquidus.engine.solidNames\n",
    "print(liquidusPhase)"
   ]
  },
  {
   "cell_type": "code",
   "execution_count": null,
   "id": "25df60bb",
   "metadata": {},
   "outputs": [],
   "source": [
    "# Note that as of July 4th, 2022 .calcSaturationState() outputs wt% oxides\n",
    "liquidus.engine.calcEndMemberProperties(liquidusPhase, liquidus.engine.dispComposition[liquidusPhase[0]])\n",
    "Xan = liquidus.engine.getProperty('X', liquidusPhase, \"CaAl2Si2O8\")\n",
    "print(Xan)"
   ]
  },
  {
   "cell_type": "code",
   "execution_count": null,
   "id": "524a4883",
   "metadata": {},
   "outputs": [],
   "source": [
    "liquidus.engine.setSystemProperties(\"Mode\", \"Fractionate Solids\")"
   ]
  },
  {
   "cell_type": "code",
   "execution_count": null,
   "id": "665eb925",
   "metadata": {},
   "outputs": [],
   "source": [
    "# .addNodeAfter() uses .copy(), which only copies \"INPUT\" or \"INPUT AND OUTPUT\"\n",
    "# .copyAndKeepOutput() copies \"OUTPUT\" also. We can verify that \"OUTPUT\" is reset\n",
    "# in ptpath when .calcEquilibriumState() (or .findLiquidus()) is called.\n",
    "ptpath = liquidus.copyAndKeepOutput()"
   ]
  },
  {
   "cell_type": "code",
   "execution_count": null,
   "id": "f7244c6d",
   "metadata": {},
   "outputs": [],
   "source": [
    "%%capture output --no-stdout --no-display\n",
    "# Run mode is 1 (isobaric, isothermal) if not defined\n",
    "# Select output mode 0, to equilibrate but not do any fractionations\n",
    "ptpath.engine.calcEquilibriumState(1, 0)\n",
    "print(ptpath.engine.status.message)\n",
    "print(ptpath.engine.solidNames)"
   ]
  },
  {
   "cell_type": "code",
   "execution_count": null,
   "id": "924366f1",
   "metadata": {},
   "outputs": [],
   "source": [
    "%%capture output --no-display\n",
    "while ptpath.engine.temperature >= 1000:\n",
    "    ptpath = ptpath.addNodeAfter()\n",
    "    ptpath.engine.temperature = ptpath.engine.temperature - 3\n",
    "\n",
    "    # Run mode is saved from previous run\n",
    "    # Select 1 to get output after equilibration and before fractionation\n",
    "    ptpath.engine.calcEquilibriumState(1, 1)\n",
    "    print(ptpath.engine.status.message)\n",
    "\n",
    "    # Can populate X, mu0 ,mu as go along (should test that the phase exists)\n",
    "    # This is a Supplemental Calculator-type method so \"OUTPUT\" is not reset\n",
    "    if \"plagioclase1\" in ptpath.engine.solidNames:\n",
    "        ptpath.engine.calcEndMemberProperties(\"plagioclase1\", ptpath.engine.dispComposition[\"plagioclase1\"])"
   ]
  },
  {
   "cell_type": "code",
   "execution_count": null,
   "id": "327f3031",
   "metadata": {},
   "outputs": [],
   "source": [
    "# Get the Phase_mass_tbl.txt and Phase_vol_tbl.txt files if standalone alphaMELTS 2 is installed\n",
    "!run-alphamelts.command -x"
   ]
  },
  {
   "cell_type": "code",
   "execution_count": null,
   "id": "416d99d1",
   "metadata": {},
   "outputs": [],
   "source": [
    "temp = ptpath.getListProperty('temperature')\n",
    "mgo = ptpath.getListProperty('dispComposition', 'liquid1', 'MgO')\n",
    "mass = ptpath.getListProperty('mass', 'bulk')"
   ]
  },
  {
   "cell_type": "code",
   "execution_count": null,
   "id": "bebc7c8b",
   "metadata": {},
   "outputs": [],
   "source": [
    "# A silly example to illustrate sorting the list (in this case by temperature ascending)\n",
    "# There are multiple ways to do this.\n",
    "if np is not None:\n",
    "    indices = np.arange(ptpath.Last.nodeIndex+1)\n",
    "else:\n",
    "    indices = list(range(ptpath.Last.nodeIndex+1))"
   ]
  },
  {
   "cell_type": "code",
   "execution_count": null,
   "id": "4d7e3d73",
   "metadata": {},
   "outputs": [],
   "source": [
    "if plt is not None:\n",
    "\n",
    "    plt.scatter(indices, mgo, marker='*', color='black')"
   ]
  },
  {
   "cell_type": "code",
   "execution_count": null,
   "id": "ed696096",
   "metadata": {},
   "outputs": [],
   "source": [
    "if np is not None:\n",
    "    temp = np.array(temp)\n",
    "    order = indices[temp.argsort()]\n",
    "else:\n",
    "    order = [x for _, x in sorted(zip(temp, indices), key=lambda pair: pair[0])]"
   ]
  },
  {
   "cell_type": "code",
   "execution_count": null,
   "id": "80ce0d5f",
   "metadata": {},
   "outputs": [],
   "source": [
    "ptpath.sortListBy(order)\n",
    "mgo = ptpath.getListProperty('dispComposition', 'liquid1', 'MgO')"
   ]
  },
  {
   "cell_type": "code",
   "execution_count": null,
   "id": "b11e9a3a",
   "metadata": {},
   "outputs": [],
   "source": [
    "if plt is not None:\n",
    "    plt.scatter(indices, mgo, marker='*', color='blue')\n",
    "    plt.show()"
   ]
  },
  {
   "cell_type": "code",
   "execution_count": null,
   "id": "d6ec58e1",
   "metadata": {},
   "outputs": [],
   "source": [
    "# flip it back again\n",
    "ptpath.sortListBy(order)\n",
    "mgo = ptpath.getListProperty('dispComposition', 'liquid1', 'MgO')"
   ]
  },
  {
   "cell_type": "code",
   "execution_count": null,
   "id": "7c308ecd",
   "metadata": {},
   "outputs": [],
   "source": [
    "Xan = ptpath.getListProperty('X', \"plagioclase1\", \"CaAl2Si2O8\")"
   ]
  },
  {
   "cell_type": "code",
   "execution_count": null,
   "id": "6800987f",
   "metadata": {},
   "outputs": [],
   "source": [
    "# If we didn't calculate Xan as we went along and wanted to avoid repeating the equilibration loop.\n",
    "plag = ptpath.getListProperty('dispComposition', 'plagioclase1')"
   ]
  },
  {
   "cell_type": "code",
   "execution_count": null,
   "id": "7c596859",
   "metadata": {},
   "outputs": [],
   "source": [
    "# Need to give the feldspars from different runs different names that start with feldspar\n",
    "phaseList = ['plagioclase_'] * (ptpath.Last.nodeIndex+1)\n",
    "for i in range(ptpath.Last.nodeIndex+1):\n",
    "    phaseList[i] += str(i+1)"
   ]
  },
  {
   "cell_type": "code",
   "execution_count": null,
   "id": "ab5b6e33",
   "metadata": {},
   "outputs": [],
   "source": [
    "# A pandas example\n",
    "if pd is not None:\n",
    "    table = pd.DataFrame(data=np.asarray(plag), index=ptpath.endMemberFormulas[\"bulk\"], columns=phaseList)\n",
    "    print(table)"
   ]
  },
  {
   "cell_type": "code",
   "execution_count": null,
   "id": "6009f963",
   "metadata": {},
   "outputs": [],
   "source": [
    "# This works because Xan is independent of pressure and temperature but we need to specify them\n",
    "# start a new list (as ptpath already has a value for Xan)\n",
    "melts = MELTSdynamic(1)\n",
    "melts.engine.temperature = ptpath.engine.temperature\n",
    "melts.engine.pressure = ptpath.engine.pressure"
   ]
  },
  {
   "cell_type": "markdown",
   "id": "b244f857",
   "metadata": {},
   "source": [
    "There is no feldspar in the first ptpath phase assemblage (composition will be all zeroes; check SiO2)\n",
    "there are other ways to do this (see meltsplotter.py); .tolist() on phaseList is optional.\n",
    "indices = np.isfinite(plag[0, :].astype(np.double))\n",
    "phaseList = (np.array(phaseList)[indices])\n",
    "melts.engine.calcEndMemberProperties(phaseList, plag[:, indices])"
   ]
  },
  {
   "cell_type": "code",
   "execution_count": null,
   "id": "91d3f7ea",
   "metadata": {},
   "outputs": [],
   "source": [
    "# There is feldspar in the first ptpath now, as alphaMELTS for Python always uses findWetLiquidus\n",
    "melts.engine.calcEndMemberProperties(phaseList, plag)"
   ]
  },
  {
   "cell_type": "code",
   "execution_count": null,
   "id": "8c06e8d4",
   "metadata": {},
   "outputs": [],
   "source": [
    "#To get properties from a single node, use getNodeProperty with None for the index.\n",
    "#Or equivalently use the engine's getProperty method instead i.e:\n",
    "#Xan = melts.engine.getProperty('X', phaseList[indices], \"CaAl2Si2O8\")"
   ]
  },
  {
   "cell_type": "code",
   "execution_count": null,
   "id": "2cc8b5ec",
   "metadata": {},
   "outputs": [],
   "source": [
    "Xan = melts.getNodeProperty(None, 'X', phaseList, \"CaAl2Si2O8\")"
   ]
  },
  {
   "cell_type": "code",
   "execution_count": null,
   "id": "b09ea787",
   "metadata": {},
   "outputs": [],
   "source": [
    "# Ryan Clark's MELTSplotter, using matplotlib\n",
    "if plt is not None:\n",
    "    try:\n",
    "        from meltsplotter import MELTSplotter\n",
    "        mplot1 = MELTSplotter()\n",
    "        mplot1 = mplot1.plotTAS(ptpath)\n",
    "        mplot2 = MELTSplotter()\n",
    "        mplot2 = mplot2.harkerPlot(ptpath, 'SiO2', ['CaO', 'MgO', 'K2O', 'TiO2', 'Na2O', 'FeO', 'MnO', 'Al2O3'], False)\n",
    "        mplot3 = MELTSplotter()\n",
    "        mplot3 = mplot3.harkerPlot(ptpath, 'MgO', ['SiO2', 'CaO', 'K2O', 'TiO2', 'Na2O', 'FeO', 'MnO', 'Al2O3'], False)\n",
    "    except:\n",
    "        print(\"Could not find MELTSplotter!\")"
   ]
  },
  {
   "cell_type": "code",
   "execution_count": null,
   "id": "d4d06de5",
   "metadata": {},
   "outputs": [],
   "source": [
    "temp = ptpath.getListProperty('temperature')\n",
    "sio2 = ptpath.getListProperty('dispComposition', 'liquid1', 'SiO2')\n",
    "feo = ptpath.getListProperty('dispComposition', 'liquid1', 'FeO')\n",
    "#mgo = ptpath.getListProperty('dispComposition', 'liquid1', 'MgO')\n",
    "cao = ptpath.getListProperty('dispComposition', 'liquid1', 'CaO')\n",
    "na2o = ptpath.getListProperty('dispComposition', 'liquid1', 'Na2O')"
   ]
  },
  {
   "cell_type": "code",
   "execution_count": null,
   "id": "7bb4a2fb",
   "metadata": {},
   "outputs": [],
   "source": [
    "try:\n",
    "    import pygmt\n",
    "    #pygmt.show_versions()\n",
    "    fig = pygmt.Figure()\n",
    "    fig.basemap(region=[1000, 1220, 0, 100], projection=\"X-4i/3i\", frame=['WeSn+tMelt composition', 'x+lT @.C system', 'y+Lwt%'])\n",
    "    fig.plot(x=temp, y=sio2, pen=\"thin,lightblue\", style=\"c0.1\")\n",
    "    fig.plot(x=temp, y=feo, pen=\"thin,orange\", style=\"c0.1\")\n",
    "    fig.plot(x=temp, y=mgo, pen=\"thin,magenta\", style=\"c0.1\")\n",
    "    fig.plot(x=temp, y=cao, pen=\"thin,gray\", style=\"c0.1\")\n",
    "    fig.plot(x=temp, y=na2o, pen=\"thin,pink\", style=\"c0.1\")\n",
    "    try:\n",
    "        fig.legend(position='jTL', box=True, spec='legend.txt')\n",
    "    except:\n",
    "        print(\"Could not find legend.txt\")\n",
    "    fig.show()\n",
    "except:\n",
    "    print(\"Could not find pygmt\")"
   ]
  },
  {
   "cell_type": "code",
   "execution_count": null,
   "id": "8109a044",
   "metadata": {},
   "outputs": [],
   "source": []
  }
 ],
 "metadata": {
  "jupytext": {
   "cell_metadata_filter": "-all",
   "formats": "ipynb,auto:percent",
   "main_language": "python",
   "notebook_metadata_filter": "-all"
  },
  "kernelspec": {
   "display_name": "Python 3 (ipykernel)",
   "language": "python",
   "name": "python3"
  },
  "language_info": {
   "codemirror_mode": {
    "name": "ipython",
    "version": 3
   },
   "file_extension": ".py",
   "mimetype": "text/x-python",
   "name": "python",
   "nbconvert_exporter": "python",
   "pygments_lexer": "ipython3",
   "version": "3.10.14"
  }
 },
 "nbformat": 4,
 "nbformat_minor": 5
}

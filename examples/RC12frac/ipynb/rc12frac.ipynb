{
 "cells": [
  {
   "cell_type": "markdown",
   "id": "0f4666ee",
   "metadata": {},
   "source": [
    "Exercise: isobaric fractional crystallization of a back-arc basalt"
   ]
  },
  {
   "cell_type": "code",
   "execution_count": null,
   "id": "b2b61146",
   "metadata": {},
   "outputs": [],
   "source": [
    "from meltsdynamic import MELTSdynamic\n",
    "import numpy as np\n",
    "import matplotlib.pyplot as plt\n",
    "import pandas as pd"
   ]
  },
  {
   "cell_type": "code",
   "execution_count": null,
   "id": "c809f797",
   "metadata": {},
   "outputs": [],
   "source": [
    "'''\n",
    "For this calculation, which involves H2O-CO2 fluid in a mafic system, we will use rhyoliteMELTS 1.2.0\n",
    "     1. rhyolite-MELTS 1.0.2\n",
    "     2. pMELTS\n",
    "     3. rhyolite-MELTS 1.1.0\n",
    "     4. rhyolite-MELTS 1.2.0\n",
    "'''"
   ]
  },
  {
   "cell_type": "code",
   "execution_count": null,
   "id": "13343cbc",
   "metadata": {},
   "outputs": [],
   "source": [
    "ptpath = MELTSdynamic(4)"
   ]
  },
  {
   "cell_type": "code",
   "execution_count": null,
   "id": "339f4b6c",
   "metadata": {},
   "outputs": [],
   "source": [
    "'''\n",
    "Initial Composition: SiO2 51.27\n",
    "Initial Composition: TiO2 0.96\n",
    "Initial Composition: Al2O3 14.80\n",
    "Initial Composition: Fe2O3 1.1\n",
    "Initial Composition: Cr2O3 0.042\n",
    "Initial Composition: FeO 8.70\n",
    "Initial Composition: MnO 0.176\n",
    "Initial Composition: MgO 8.45\n",
    "Initial Composition: NiO 0.011\n",
    "Initial Composition: CaO 12.47\n",
    "Initial Composition: Na2O 2.25\n",
    "Initial Composition: K2O 0.047\n",
    "Initial Composition: P2O5 0.065\n",
    "Initial Composition: H2O 0.25\n",
    "Initial Composition: CO2 0.005\n",
    "'''"
   ]
  },
  {
   "cell_type": "code",
   "execution_count": null,
   "id": "95c53396",
   "metadata": {},
   "outputs": [],
   "source": [
    "bulk = [51.27, 0.96, 14.80, 1.1, 0.042, 8.7, 0.176, 8.45, 0.011,  0.0, 12.47, 2.25, 0.047, 0.065, 0.25, 0.005, 0.0, 0.0, 0.0]"
   ]
  },
  {
   "cell_type": "code",
   "execution_count": null,
   "id": "ee1b3a74",
   "metadata": {
    "lines_to_next_cell": 2
   },
   "outputs": [],
   "source": [
    "# There are several ways to do set composition\n",
    "ptpath.engine.setBulkComposition(bulk)"
   ]
  },
  {
   "cell_type": "markdown",
   "id": "9b4a83b5",
   "metadata": {},
   "source": [
    "Here we passed the whole composition vector but it is possible to set individual oxides separately\n",
    "ptpath.engine.set('bulkComposition', 'H2O', 0.5);"
   ]
  },
  {
   "cell_type": "code",
   "execution_count": null,
   "id": "d2b9966b",
   "metadata": {},
   "outputs": [],
   "source": [
    "pressure = 250.0\n",
    "temperature = 1191.0"
   ]
  },
  {
   "cell_type": "code",
   "execution_count": null,
   "id": "afac3c9e",
   "metadata": {},
   "outputs": [],
   "source": [
    "# Note that as of Nov 18th, 2020 temperature is in Celcius\n",
    "ptpath.engine.pressure = pressure\n",
    "ptpath.engine.temperature = temperature"
   ]
  },
  {
   "cell_type": "markdown",
   "id": "305264c6",
   "metadata": {},
   "source": [
    "There are other way for setting system properties."
   ]
  },
  {
   "cell_type": "code",
   "execution_count": null,
   "id": "c2ae7236",
   "metadata": {},
   "outputs": [],
   "source": [
    "# A 1-D array of strings that look just like the .melts file lines (fo2 Offset also supported)\n",
    "ptpath.engine.setSystemProperties([\"Log fO2 Path: -1FMQ\", \"Mode: Fractionate Solids\"])"
   ]
  },
  {
   "cell_type": "code",
   "execution_count": null,
   "id": "10debd06",
   "metadata": {},
   "outputs": [],
   "source": [
    "'''\n",
    "Execute the path (equivalent to menu option 4)\n",
    "\n",
    " Select 1 to get output after equilibration and before fractionation, 2 for output after fractionation\n",
    " (either way, bulk composition will be updated after fractionation)\n",
    "'''\n",
    "ptpath.engine.calcEquilibriumState(1, 1)"
   ]
  },
  {
   "cell_type": "code",
   "execution_count": null,
   "id": "b4729df0",
   "metadata": {},
   "outputs": [],
   "source": [
    "while ptpath.engine.temperature >= 923:\n",
    "\n",
    "    ptpath = ptpath.addNodeAfter()\n",
    "    ptpath.engine.temperature = ptpath.engine.temperature - 1\n",
    "\n",
    "    # Run mode is saved from previous run\n",
    "    # Select 1 to get output after equilibration and before fractionation\n",
    "    ptpath.engine.calcEquilibriumState(1, 1)\n",
    "    print(ptpath.engine.status.message)\n",
    "\n",
    "    # This means that we do not skip any failures\n",
    "    if ptpath.engine.status.failed:\n",
    "        break\n",
    "\n",
    "    # Can populate X, mu0, mu for all phases or select key phases; can also calculate afterwards (see tutorial.py).\n",
    "    if \"plagioclase1\" in ptpath.engine.solidNames:\n",
    "        ptpath.engine.calcEndMemberProperties(\"plagioclase1\", ptpath.engine.dispComposition[\"plagioclase1\"])"
   ]
  },
  {
   "cell_type": "code",
   "execution_count": null,
   "id": "76df8c21",
   "metadata": {},
   "outputs": [],
   "source": [
    "'''\n",
    "Examine output\n",
    "\n",
    "By default alphaMELTS for MATLAB automatically its own _tbl.txt files that can be\n",
    "processed with run-alphamelts.command -x to generate Phase_mass_tbl.txt etc.\n",
    "\n",
    "Note that ptpath.engine.meltsIndex gives you the line number of the output in the tbl or _tbl.txt\n",
    "files, wherease ptpath.nodeIndex gives you the location within the MELTSdynamic linked list\n",
    "(these won't be the same if the library gets reloaded and calculations continue)\n",
    "\n",
    "Liquidus phase(s)\n",
    "\n",
    "You can also explore the liquidus phase by looking at the first few iterations / nodes\n",
    "'''\n",
    "print(ptpath.First.engine.solidNames)"
   ]
  },
  {
   "cell_type": "code",
   "execution_count": null,
   "id": "f74ca93c",
   "metadata": {},
   "outputs": [],
   "source": [
    "# These two are almost equivalent *********************\n",
    "print(ptpath.First.Next.engine.solidNames)\n",
    "print(ptpath.getNodeProperty(1, 'solidNames'))"
   ]
  },
  {
   "cell_type": "code",
   "execution_count": null,
   "id": "55f06c12",
   "metadata": {},
   "outputs": [],
   "source": [
    "temp = ptpath.getListProperty('temperature')"
   ]
  },
  {
   "cell_type": "code",
   "execution_count": null,
   "id": "83fef919",
   "metadata": {},
   "outputs": [],
   "source": [
    "Xan = ptpath.getListProperty('X', \"plagioclase1\", \"CaAl2Si2O8\")"
   ]
  },
  {
   "cell_type": "code",
   "execution_count": null,
   "id": "ce7e459e",
   "metadata": {},
   "outputs": [],
   "source": [
    "plt.scatter(temp, Xan, marker='*', color='black')\n",
    "plt.show()"
   ]
  },
  {
   "cell_type": "code",
   "execution_count": null,
   "id": "9e3da937",
   "metadata": {},
   "outputs": [],
   "source": [
    "cpx = ptpath.getListProperty('mass', \"clinopyroxene1\");"
   ]
  },
  {
   "cell_type": "code",
   "execution_count": null,
   "id": "4262bec7",
   "metadata": {},
   "outputs": [],
   "source": [
    "plt.scatter(temp, Xan, marker='*', color='black')\n",
    "plt.show()"
   ]
  },
  {
   "cell_type": "markdown",
   "id": "61e05f65",
   "metadata": {},
   "source": [
    "Other phases"
   ]
  },
  {
   "cell_type": "code",
   "execution_count": null,
   "id": "e42a636c",
   "metadata": {},
   "outputs": [],
   "source": [
    "'''\n",
    "indices = list(range(ptpath.Last.nodeIndex+1))\n",
    "sp = ptpath.getListProperty('mass', \"spinel1\")\n",
    "indices = np.isfinite(sp[0, :].astype(np.double))\n",
    "'''"
   ]
  },
  {
   "cell_type": "code",
   "execution_count": null,
   "id": "1275767b",
   "metadata": {},
   "outputs": [],
   "source": [
    "'''\n",
    "print(ptpath.getNodeProperty(indices(0), 'X', \"spinel1\"))\n",
    "print(ptpath.getNodeProperty(indices(), 'X', \"spinel1\"))\n",
    "'''"
   ]
  },
  {
   "cell_type": "code",
   "execution_count": null,
   "id": "4421a819",
   "metadata": {},
   "outputs": [],
   "source": [
    "'''\n",
    "Xfo = ptpath.getListProperty('X', \"olivine1\", \"Mg2SiO4\")\n",
    "plt.scatter(Xan, Xfo, marker='*', color='black')\n",
    "plt.show()\n",
    "'''"
   ]
  },
  {
   "cell_type": "markdown",
   "id": "ed294c45",
   "metadata": {},
   "source": [
    "Liquid"
   ]
  },
  {
   "cell_type": "code",
   "execution_count": null,
   "id": "28638ce8",
   "metadata": {
    "lines_to_next_cell": 2
   },
   "outputs": [],
   "source": [
    "# We need to do Prev because the last point failed\n",
    "print(ptpath.endMemberFormulas[\"bulk\"])\n",
    "print(ptpath.Prev.engine.dispComposition[\"liquid1\"])"
   ]
  },
  {
   "cell_type": "code",
   "execution_count": null,
   "id": "55bbf535",
   "metadata": {},
   "outputs": [],
   "source": [
    "\"\"\"\n",
    "F = ptpath.getListProperty('mass', \"liquid1\") / ptpath.First.engine.mass(\"bulk\");\n",
    "figure(4)\n",
    "plot(temp, F)\n",
    "\n",
    "feot = ptpath.getListProperty('dispComposition', 'liquid1', 'FeO') +...\n",
    "    0.9*ptpath.getListProperty('dispComposition', 'liquid1', 'Fe2O3');\n",
    "mgo = ptpath.getListProperty('dispComposition', 'liquid1', 'MgO');\n",
    "figure(5)\n",
    "plot(mgo, feot)\n",
    "\n",
    "\"\"\""
   ]
  }
 ],
 "metadata": {
  "jupytext": {
   "cell_metadata_filter": "-all",
   "formats": "ipynb,py:light",
   "main_language": "python",
   "notebook_metadata_filter": "-all"
  },
  "kernelspec": {
   "display_name": "Python 3 (ipykernel)",
   "language": "python",
   "name": "python3"
  },
  "language_info": {
   "codemirror_mode": {
    "name": "ipython",
    "version": 3
   },
   "file_extension": ".py",
   "mimetype": "text/x-python",
   "name": "python",
   "nbconvert_exporter": "python",
   "pygments_lexer": "ipython3",
   "version": "3.9.13"
  }
 },
 "nbformat": 4,
 "nbformat_minor": 5
}
